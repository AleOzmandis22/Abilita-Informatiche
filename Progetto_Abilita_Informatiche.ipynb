{
 "cells": [
  {
   "cell_type": "code",
   "execution_count": 4,
   "id": "8f5110f9",
   "metadata": {},
   "outputs": [
    {
     "name": "stdout",
     "output_type": "stream",
     "text": [
      "Requirement already satisfied: colossus in c:\\users\\sandr\\anaconda3\\lib\\site-packages (1.2.18)\n",
      "Requirement already satisfied: emcee in c:\\users\\sandr\\anaconda3\\lib\\site-packages (3.0.2)\n",
      "Requirement already satisfied: numpy in c:\\users\\sandr\\anaconda3\\lib\\site-packages (from emcee) (1.20.2)\n",
      "Collecting corner\n",
      "  Using cached corner-2.2.1-py3-none-any.whl (15 kB)\n",
      "Requirement already satisfied: matplotlib>=2.1 in c:\\users\\sandr\\anaconda3\\lib\\site-packages (from corner) (3.3.4)\n",
      "Requirement already satisfied: cycler>=0.10 in c:\\users\\sandr\\anaconda3\\lib\\site-packages (from matplotlib>=2.1->corner) (0.10.0)\n",
      "Requirement already satisfied: kiwisolver>=1.0.1 in c:\\users\\sandr\\anaconda3\\lib\\site-packages (from matplotlib>=2.1->corner) (1.3.1)\n",
      "Requirement already satisfied: pyparsing!=2.0.4,!=2.1.2,!=2.1.6,>=2.0.3 in c:\\users\\sandr\\anaconda3\\lib\\site-packages (from matplotlib>=2.1->corner) (2.4.7)\n",
      "Requirement already satisfied: numpy>=1.15 in c:\\users\\sandr\\anaconda3\\lib\\site-packages (from matplotlib>=2.1->corner) (1.20.2)\n",
      "Requirement already satisfied: pillow>=6.2.0 in c:\\users\\sandr\\anaconda3\\lib\\site-packages (from matplotlib>=2.1->corner) (8.2.0)\n",
      "Requirement already satisfied: python-dateutil>=2.1 in c:\\users\\sandr\\anaconda3\\lib\\site-packages (from matplotlib>=2.1->corner) (2.8.1)\n",
      "Requirement already satisfied: six in c:\\users\\sandr\\anaconda3\\lib\\site-packages (from cycler>=0.10->matplotlib>=2.1->corner) (1.16.0)\n",
      "Installing collected packages: corner\n",
      "Successfully installed corner-2.2.1\n"
     ]
    }
   ],
   "source": [
    "import sys\n",
    "!{sys.executable} -m pip install colossus\n",
    "!{sys.executable} -m pip install emcee\n",
    "!{sys.executable} -m pip install corner"
   ]
  },
  {
   "cell_type": "code",
   "execution_count": 5,
   "id": "67f3c4ae",
   "metadata": {},
   "outputs": [],
   "source": [
    "import numpy as np\n",
    "from colossus.cosmology import cosmology\n",
    "from colossus.lss import mass_function\n",
    "from matplotlib import pyplot as plt\n",
    "from astropy.cosmology import FlatLambdaCDM\n",
    "from astropy.cosmology import LambdaCDM\n",
    "\n",
    "import emcee\n",
    "import corner\n",
    "\n",
    "\n",
    "\n"
   ]
  },
  {
   "cell_type": "code",
   "execution_count": 6,
   "id": "ec5993f1",
   "metadata": {},
   "outputs": [
    {
     "data": {
      "image/png": "[encoded data removed]",
      "text/plain": [
       "<Figure size 432x288 with 1 Axes>"
      ]
     },
     "metadata": {
      "needs_background": "light"
     },
     "output_type": "display_data"
    }
   ],
   "source": [
    "cosmology.setCosmology('WMAP9')\n",
    "\n",
    "# Array of masses\n",
    "m_arr = np.geomspace(1E10,1E15,128)\n",
    "\n",
    "##for mass in m_arr:\n",
    "mfunc_so = mass_function.massFunction(m_arr, 0.0, mdef = 'vir', model = 'tinker08', q_out = 'dndlnM') # q_out modifies the output function\n",
    "##    mfunc_fof = mass_function.massFunction(mass, 0.0, mdef = 'fof', model = 'watson13', q_out = dndlnM))\n",
    "plt.plot(m_arr, m_arr * mfunc_so)\n",
    "\n",
    "plt.show()   "
   ]
  },
  {
   "cell_type": "code",
   "execution_count": null,
   "id": "2cce6452",
   "metadata": {},
   "outputs": [],
   "source": []
  }
 ],
 "metadata": {
  "kernelspec": {
   "display_name": "Python 3",
   "language": "python",
   "name": "python3"
  },
  "language_info": {
   "codemirror_mode": {
    "name": "ipython",
    "version": 3
   },
   "file_extension": ".py",
   "mimetype": "text/x-python",
   "name": "python",
   "nbconvert_exporter": "python",
   "pygments_lexer": "ipython3",
   "version": "3.8.10"
  }
 },
 "nbformat": 4,
 "nbformat_minor": 5
}
