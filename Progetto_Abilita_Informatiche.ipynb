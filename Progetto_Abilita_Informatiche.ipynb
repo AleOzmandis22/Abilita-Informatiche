{
 "cells": [
  {
   "cell_type": "code",
   "execution_count": 1,
   "id": "8f5110f9",
   "metadata": {},
   "outputs": [
    {
     "name": "stdout",
     "output_type": "stream",
     "text": [
      "Requirement already satisfied: colossus in c:\\users\\sandr\\anaconda3\\lib\\site-packages (1.2.18)\n",
      "Requirement already satisfied: emcee in c:\\users\\sandr\\anaconda3\\lib\\site-packages (3.0.2)\n",
      "Requirement already satisfied: numpy in c:\\users\\sandr\\anaconda3\\lib\\site-packages (from emcee) (1.20.2)\n",
      "Requirement already satisfied: corner in c:\\users\\sandr\\anaconda3\\lib\\site-packages (2.2.1)\n",
      "Requirement already satisfied: matplotlib>=2.1 in c:\\users\\sandr\\anaconda3\\lib\\site-packages (from corner) (3.3.4)\n",
      "Requirement already satisfied: numpy>=1.15 in c:\\users\\sandr\\anaconda3\\lib\\site-packages (from matplotlib>=2.1->corner) (1.20.2)\n",
      "Requirement already satisfied: pyparsing!=2.0.4,!=2.1.2,!=2.1.6,>=2.0.3 in c:\\users\\sandr\\anaconda3\\lib\\site-packages (from matplotlib>=2.1->corner) (2.4.7)\n",
      "Requirement already satisfied: pillow>=6.2.0 in c:\\users\\sandr\\anaconda3\\lib\\site-packages (from matplotlib>=2.1->corner) (8.2.0)\n",
      "Requirement already satisfied: cycler>=0.10 in c:\\users\\sandr\\anaconda3\\lib\\site-packages (from matplotlib>=2.1->corner) (0.10.0)\n",
      "Requirement already satisfied: kiwisolver>=1.0.1 in c:\\users\\sandr\\anaconda3\\lib\\site-packages (from matplotlib>=2.1->corner) (1.3.1)\n",
      "Requirement already satisfied: python-dateutil>=2.1 in c:\\users\\sandr\\anaconda3\\lib\\site-packages (from matplotlib>=2.1->corner) (2.8.1)\n",
      "Requirement already satisfied: six in c:\\users\\sandr\\anaconda3\\lib\\site-packages (from cycler>=0.10->matplotlib>=2.1->corner) (1.16.0)\n"
     ]
    }
   ],
   "source": [
    "import sys\n",
    "!{sys.executable} -m pip install colossus\n",
    "!{sys.executable} -m pip install emcee\n",
    "!{sys.executable} -m pip install corner"
   ]
  },
  {
   "cell_type": "code",
   "execution_count": 56,
   "id": "67f3c4ae",
   "metadata": {},
   "outputs": [],
   "source": [
    "import numpy as np\n",
    "from colossus.cosmology import cosmology\n",
    "from colossus.lss import mass_function\n",
    "from matplotlib import pyplot as plt\n",
    "from astropy.cosmology import FlatLambdaCDM\n",
    "from astropy.cosmology import LambdaCDM\n",
    "import matplotlib as mpl\n",
    "from scipy.optimize import curve_fit\n",
    "\n",
    "import emcee\n",
    "import corner\n",
    "\n",
    "mpl.rcParams['agg.path.chunksize'] = 10000  # This is required to correctly plot the mass function evaluated on the data array\n",
    "\n"
   ]
  },
  {
   "cell_type": "code",
   "execution_count": 57,
   "id": "ec5993f1",
   "metadata": {},
   "outputs": [
    {
     "data": {
      "image/png": "[encoded data removed]",
      "text/plain": [
       "<Figure size 432x288 with 1 Axes>"
      ]
     },
     "metadata": {
      "needs_background": "light"
     },
     "output_type": "display_data"
    }
   ],
   "source": [
    "\n",
    "## cosmology.setCosmology('WMAP9') This is a default cosmology\n",
    "\n",
    "params = {'flat': True, 'H0': 67.2, 'Om0': 0.31, 'Ob0': 0.049, 'sigma8': 0.81, 'ns': 0.95} # This sets a customized cosmology\n",
    "cosmology.addCosmology('myCosmo', params)\n",
    "cosmo = cosmology.setCosmology('myCosmo')\n",
    "\n",
    "# Array of masses\n",
    "m_arr = np.linspace(1E13,1E15,128)\n",
    "\n",
    "##for mass in m_arr:\n",
    "mfunc_so = mass_function.massFunction(m_arr, 0.0, mdef = 'vir', model = 'despali16', q_out = 'dndlnM') # q_out modifies the output function\n",
    "##    mfunc_fof = mass_function.massFunction(mass, 0.0, mdef = 'fof', model = 'watson13', q_out = dndlnM))\n",
    "plt.loglog(m_arr,  mfunc_so)\n",
    "\n",
    "\n",
    "plt.show()   "
   ]
  },
  {
   "cell_type": "code",
   "execution_count": 58,
   "id": "2cce6452",
   "metadata": {},
   "outputs": [
    {
     "name": "stdout",
     "output_type": "stream",
     "text": [
      "['mass', 'pos']\n",
      "(2772758,)\n",
      "(2772758,)\n",
      "5705458771838476.0\n",
      "2772758\n"
     ]
    }
   ],
   "source": [
    "a = np.load('converted_catalog_z0.000_mock0001.npz') # Import the catalog and read through it\n",
    "print(a.files)\n",
    "print(a['mass'].shape) # a['masss] is an array with 2772758 components\n",
    "print(a['mass'].shape)\n",
    "print(np.max(a['mass']))\n",
    "print(len(a['mass']))\n",
    "\n"
   ]
  },
  {
   "cell_type": "code",
   "execution_count": 71,
   "id": "8e99c8b5",
   "metadata": {},
   "outputs": [
    {
     "data": {
      "image/png": "[encoded data removed]",
      "text/plain": [
       "<Figure size 432x288 with 1 Axes>"
      ]
     },
     "metadata": {
      "needs_background": "light"
     },
     "output_type": "display_data"
    }
   ],
   "source": [
    "xmin = np.min(a['mass'])\n",
    "xmax = np.max(a['mass'])\n",
    "plt.hist(np.log10(a['mass']), bins=101, range = (np.log10(xmin), np.log10(xmax) ) )#Histogram of log-mass catalog, density=True gives a normalized histogram\n",
    "\n",
    "\n",
    "m_arr = a['mass']\n",
    "m_arr.sort() # order by increasing value\n",
    "mfunc_so = mass_function.massFunction(m_arr, 0.0, mdef = 'vir', model = 'despali16', q_out = 'dndlnM')\n",
    "\n",
    "plt.plot(np.log10(m_arr), 2772758000* mfunc_so) \n",
    "plt.show()"
   ]
  },
  {
   "cell_type": "code",
   "execution_count": null,
   "id": "1bc6be9f",
   "metadata": {},
   "outputs": [],
   "source": []
  }
 ],
 "metadata": {
  "kernelspec": {
   "display_name": "Python 3",
   "language": "python",
   "name": "python3"
  },
  "language_info": {
   "codemirror_mode": {
    "name": "ipython",
    "version": 3
   },
   "file_extension": ".py",
   "mimetype": "text/x-python",
   "name": "python",
   "nbconvert_exporter": "python",
   "pygments_lexer": "ipython3",
   "version": "3.8.10"
  }
 },
 "nbformat": 4,
 "nbformat_minor": 5
}
